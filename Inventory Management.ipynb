{
 "cells": [
  {
   "cell_type": "markdown",
   "id": "c8e064c3",
   "metadata": {},
   "source": [
    "## Inventory Management"
   ]
  },
  {
   "cell_type": "markdown",
   "id": "3063ab5e",
   "metadata": {},
   "source": [
    "## Product Details\n",
    "\n",
    "1)Product ID\n",
    "\n",
    "2)Name of Product\n",
    "\n",
    "3)Price of Product\n",
    "\n",
    "4)Quantity\n"
   ]
  },
  {
   "cell_type": "code",
   "execution_count": 24,
   "id": "986733e0",
   "metadata": {},
   "outputs": [
    {
     "name": "stdout",
     "output_type": "stream",
     "text": [
      "1,5 Star,5,100\n",
      "2,Milky Bar,5,100\n",
      "3,Cake,300,5\n",
      "4,Candy,1,200\n"
     ]
    }
   ],
   "source": [
    "for i in products:\n",
    "    print(i)"
   ]
  },
  {
   "cell_type": "code",
   "execution_count": 4,
   "id": "bf5919b3",
   "metadata": {
    "scrolled": true
   },
   "outputs": [
    {
     "name": "stdout",
     "output_type": "stream",
     "text": [
      "Enter your name: Paneer\n",
      "Enter your EmaidID for updates: paneer@gmail.com\n",
      "Enter your phone no: 76890213412\n",
      "Enter the product id: 2\n",
      "Enter the quantity: 2\n",
      "\n",
      "The current Bill:\n",
      "\n",
      "The product id:              2\n",
      "The product name:            Milky Bar\n",
      "The product price/unit:      5\n",
      "The product quantity:        2\n",
      "---------------------------------------\n",
      "Amount =                     10\n",
      "---------------------------------------\n"
     ]
    }
   ],
   "source": [
    "import time\n",
    "fd=open('Inventory.txt','r')\n",
    "txt=fd.read().split(\"\\n\")\n",
    "fd.close()\n",
    "name=input(\"Enter your name: \")\n",
    "email=input(\"Enter your EmaidID for updates: \")\n",
    "phoneno=input(\"Enter your phone no: \")\n",
    "a=input('Enter the product id: ')\n",
    "b=input('Enter the quantity: ')\n",
    "currentproducts=[]\n",
    "print()\n",
    "\n",
    "for i in txt:\n",
    "    prod=i.split(',')\n",
    "    if a==i.split(',')[0]:\n",
    "        if int(b)<=int(prod[3]):\n",
    "            print(\"The current Bill:\")\n",
    "            print()\n",
    "            print(\"The product id:             \",prod[0])\n",
    "            print(\"The product name:           \",prod[1])\n",
    "            print(\"The product price/unit:     \",prod[2])\n",
    "            print(\"The product quantity:       \",a)\n",
    "            print(\"---------------------------------------\")\n",
    "            print(\"Amount =                    \",int(b)*int(prod[2]))\n",
    "            print(\"---------------------------------------\")\n",
    "            prod[3]=int(prod[3])-int(b)\n",
    "            fd=open('Sales.txt','a')\n",
    "            salesdata=\"Name: \"+name+'\\n'+\"Email: \"+email+\"\\n\"+\"Phone Number: \"+str(phoneno)+\"\\n\"+\"Product ID: \"+str(a)+\"\\n\"+\"Quantity: \"+str(b)+\"\\n\"+\"Total amount: \"+str(int(b)*int(prod[2]))+\"\\n\"+\"Time: \"+time.ctime()+\"\\n\\n\"\n",
    "            fd.write(salesdata)\n",
    "        else:\n",
    "            print(\"Sorry we are not having the quantity you want.\")\n",
    "            print(\"We are having only \",prod[3],\"only\")\n",
    "            print(\"Do you like to purchase it the whole or no:\")\n",
    "            print(\"Enter y for yes and n for no\")\n",
    "            print()\n",
    "            s=input()\n",
    "            if s=='y' or s=='Y':\n",
    "                print(\"The current Bill:\")\n",
    "                print()\n",
    "                print(\"The product id:             \",prod[0])\n",
    "                print(\"The product name:           \",prod[1])\n",
    "                print(\"The product price/unit:     \",prod[2])\n",
    "                print(\"The product quantity:       \",prod[3])\n",
    "                print(\"---------------------------------------\")\n",
    "                print(\"Amount =                    \",int(prod[3])*int(prod[2]))\n",
    "                print(\"---------------------------------------\")\n",
    "                prod[3]='0'\n",
    "                fd=open('Sales.txt','a')\n",
    "                salesdata=\"Name: \"+name+'\\n'+\"Email: \"+email+\"\\n\"+\"Phone Number: \"+str(phoneno)+\"\\n\"+\"Product ID: \"+str(a)+\"\\n\"+\"Quantity: \"+str(b)+\"\\n\"+\"Total amount: \"+str(int(b)*int(prod[2]))+\"\\n\"+\"Time: \"+time.ctime()+\"\\n\\n\"\n",
    "                fd.write(salesdata)\n",
    "            else:\n",
    "                print(\"Thank you for visiting! \",\"Please visit again\")\n",
    "    currentproducts.append(prod)\n",
    "fd=open('Inventory.txt','w')\n",
    "lst=[]\n",
    "for i in currentproducts:\n",
    "    a=str(i[0])+','+str(i[1])+','+str(i[2])+','+str(i[3])+'\\n'\n",
    "    lst.append(a)\n",
    "lst[-1]=lst[-1][:-1]\n",
    "for i in lst:\n",
    "    fd.write(i)\n",
    "fd.close()"
   ]
  },
  {
   "cell_type": "code",
   "execution_count": null,
   "id": "d188309b",
   "metadata": {},
   "outputs": [],
   "source": []
  },
  {
   "cell_type": "code",
   "execution_count": null,
   "id": "5b0695ae",
   "metadata": {},
   "outputs": [],
   "source": []
  },
  {
   "cell_type": "code",
   "execution_count": null,
   "id": "4e1ab56c",
   "metadata": {},
   "outputs": [],
   "source": []
  },
  {
   "cell_type": "code",
   "execution_count": null,
   "id": "d997536b",
   "metadata": {},
   "outputs": [],
   "source": []
  },
  {
   "cell_type": "code",
   "execution_count": null,
   "id": "12eb2a6b",
   "metadata": {},
   "outputs": [],
   "source": []
  },
  {
   "cell_type": "code",
   "execution_count": null,
   "id": "cb7b25e9",
   "metadata": {},
   "outputs": [],
   "source": []
  }
 ],
 "metadata": {
  "kernelspec": {
   "display_name": "Python 3 (ipykernel)",
   "language": "python",
   "name": "python3"
  },
  "language_info": {
   "codemirror_mode": {
    "name": "ipython",
    "version": 3
   },
   "file_extension": ".py",
   "mimetype": "text/x-python",
   "name": "python",
   "nbconvert_exporter": "python",
   "pygments_lexer": "ipython3",
   "version": "3.11.5"
  }
 },
 "nbformat": 4,
 "nbformat_minor": 5
}
